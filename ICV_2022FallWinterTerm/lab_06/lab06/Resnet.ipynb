{
 "cells": [
  {
   "cell_type": "markdown",
   "id": "b4a9f107",
   "metadata": {},
   "source": [
    "# ResNet"
   ]
  },
  {
   "cell_type": "code",
   "execution_count": 1,
   "id": "2ca1450c",
   "metadata": {},
   "outputs": [],
   "source": [
    "import torch\n",
    "import torch.nn as nn"
   ]
  },
  {
   "cell_type": "markdown",
   "id": "2d6069fd",
   "metadata": {},
   "source": [
    "## Residual block\n",
    "\n",
    "Here, we implement BasicBlock and Bottleneck.\n",
    "\n",
    "You only need to finish the class."
   ]
  },
  {
   "cell_type": "markdown",
   "id": "6b478186",
   "metadata": {},
   "source": [
    "### BasicBlock"
   ]
  },
  {
   "cell_type": "code",
   "execution_count": null,
   "id": "15665441",
   "metadata": {},
   "outputs": [],
   "source": [
    "class BasicBlock(nn.Module):\n",
    "    def __init__(self, in_channels, out_channels, stride, dilation, *args, **kwargs):\n",
    "        super().__init__()\n",
    "        pass\n",
    "        '''\n",
    "        implement here\n",
    "        '''\n",
    "        \n",
    "    def forward(self, x):\n",
    "        pass\n",
    "        '''\n",
    "        implement here\n",
    "        '''"
   ]
  },
  {
   "cell_type": "markdown",
   "id": "944e4078",
   "metadata": {},
   "source": [
    "### Bottleneck"
   ]
  },
  {
   "cell_type": "code",
   "execution_count": null,
   "id": "48412592",
   "metadata": {},
   "outputs": [],
   "source": [
    "class Bottleneck(nn.Module):\n",
    "    def __init__(self, in_channels, out_channels, stride, dilation, *args, **kwargs):\n",
    "        super().__init__()\n",
    "        pass\n",
    "        '''\n",
    "        implement here\n",
    "        '''\n",
    "        \n",
    "    def forward(self, x):\n",
    "        pass\n",
    "        '''\n",
    "        implement here\n",
    "        '''"
   ]
  },
  {
   "cell_type": "markdown",
   "id": "07376220",
   "metadata": {},
   "source": [
    "## ResNet50\n",
    "\n",
    "Now, construct the ResNet50 with the Bottleneck module you have implemented.\n",
    "\n",
    "Hint:\n",
    "\n",
    "    The input image size should be 224x224.\n",
    "    The feature map before the fc should be 7x7."
   ]
  },
  {
   "cell_type": "code",
   "execution_count": null,
   "id": "91d12190",
   "metadata": {},
   "outputs": [],
   "source": [
    "class ResNet50(nn.Module):\n",
    "    def __init__(self, block, num_classes, *args, **kwargs):\n",
    "        super().__init__()\n",
    "        pass\n",
    "        '''\n",
    "        implement here\n",
    "        '''\n",
    "        \n",
    "    def forward(self, x):\n",
    "        pass\n",
    "        '''\n",
    "        implement here\n",
    "        '''"
   ]
  },
  {
   "cell_type": "markdown",
   "id": "b20450e0",
   "metadata": {},
   "source": [
    "## Parameters and FLOPs\n",
    "\n",
    "You should calculate the parameters and FLOPs of your ResNet-50, which should be similar to the original paper.\n",
    "(You do not need to get the exactly same results as the original paper since BN and pooling contribute to this while some methods ignore them.)\n",
    "\n",
    "Hint(I just simply give you the answers since you can easily obtain this via google.):\n",
    "\n",
    "    FLOPs: 8.2B (MACCs: 4.1B, since some paper use FLOPs but indicate MACCs)\n",
    "    Parameters: 25.6M"
   ]
  },
  {
   "cell_type": "code",
   "execution_count": null,
   "id": "d7c24908",
   "metadata": {},
   "outputs": [],
   "source": []
  }
 ],
 "metadata": {
  "kernelspec": {
   "display_name": "Python 3",
   "language": "python",
   "name": "python3"
  },
  "language_info": {
   "codemirror_mode": {
    "name": "ipython",
    "version": 3
   },
   "file_extension": ".py",
   "mimetype": "text/x-python",
   "name": "python",
   "nbconvert_exporter": "python",
   "pygments_lexer": "ipython3",
   "version": "3.8.8"
  }
 },
 "nbformat": 4,
 "nbformat_minor": 5
}
